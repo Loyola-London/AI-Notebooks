{
 "cells": [
  {
   "cell_type": "markdown",
   "id": "15d03c43-77e7-41fd-96ad-c5cdecc21dd9",
   "metadata": {},
   "source": [
    "This is just to test to make sure I can push to github"
   ]
  },
  {
   "cell_type": "code",
   "execution_count": 1,
   "id": "35667294-83d7-4bc7-b3bc-febc26ad8cc6",
   "metadata": {},
   "outputs": [
    {
     "name": "stdout",
     "output_type": "stream",
     "text": [
      "Hello\n"
     ]
    }
   ],
   "source": [
    "print(\"Hello\")"
   ]
  }
 ],
 "metadata": {
  "kernelspec": {
   "display_name": "Python 3 (ipykernel)",
   "language": "python",
   "name": "python3"
  },
  "language_info": {
   "codemirror_mode": {
    "name": "ipython",
    "version": 3
   },
   "file_extension": ".py",
   "mimetype": "text/x-python",
   "name": "python",
   "nbconvert_exporter": "python",
   "pygments_lexer": "ipython3",
   "version": "3.10.12"
  }
 },
 "nbformat": 4,
 "nbformat_minor": 5
}

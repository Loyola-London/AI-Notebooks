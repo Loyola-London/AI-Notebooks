{
 "cells": [
  {
   "cell_type": "markdown",
   "id": "bc0bea45-b203-41ba-b219-4ee1890a74c7",
   "metadata": {},
   "source": [
    "# Module 0 - Preparation\n",
    "In this module we will establish the foundational knowledge necessary for our exploration of artificial intelligence (AI) and machine learning (ML) in a business context. This module includes an overview of fundamental concepts and techniques in AI and ML, ensuring all participants have a solid understanding of the basics. We will also set up our development environment using Jupyter Notebook, a key tool for our coursework. A brief refresher on Python programming will be provided to ensure proficiency in the language. Additionally, we will delve into the first three chapters of Ethan Mollick's \"Co-Intelligence,\" discussing its key themes and insights related to AI's role in enhancing business intelligence and decision-making processes."
   ]
  },
  {
   "cell_type": "markdown",
   "id": "9dcf33dd-8293-428d-b108-b1ddcc578e00",
   "metadata": {},
   "source": [
    "***\n",
    "## JupyterHub\n",
    "<p style=\"text-align: center\">\n",
    "    <img src=http://thislondonhouse.com/Jupyter/Images/jupyter-python.png>\n",
    "</p>  \n",
    "\n",
    "Before diving into these issues we will first need to connect to our coding environment. For this course, we will be using a JupyterHub instance installed on a server in my basement. Jupyter is an inline Python interpreter that will allow us to notate and write Python code in a browser without the need of external applications. To connect to our JupyterHub server, you need to navigate to this site: https://jupyter.thislondonhouse.com.  \n",
    "\n",
    "<p style=\"text-align: center\"><img src=\"http://thislondonhouse.com/Jupyter/Images/00-Jupyter-01.png\"></p>  \n",
    "\n",
    "Your login information for the server will be the following:  \n",
    "**Username**: Loyola username (this is the beginning of your Loyola email address; my email address is jlondon1@loyola.edu so my username would be jlondon1.)  \n",
    "**Password**: is452 (*lowercase*; everyone has the same password.)  \n",
    "\n",
    "<p style=\"text-align: center\"><img src=\"http://thislondonhouse.com/Jupyter/Images/00-Jupyter-02.png\"></p>  \n",
    "\n",
    "To download the Jupyter notebooks for our class, you will need to clone my GitHub repository (https://github.com/Loyola-London/AI-Notebooks). I will be making updates to this repository throughout the semester and you will be notified of these changes if you clone my repository. Click the GitHub icon on the left menubar (3rd button) and then click **'Clone a Repository'**\n",
    "\n",
    "<p style=\"text-align: center\"><img src=\"http://thislondonhouse.com/Jupyter/Images/00-Jupyter-03.png\"></p>  \n",
    "\n",
    "**Git Repository**: https://github.com/Loyola-London/AI-Notebooks  \n",
    "**Include submodules**: Yes  \n",
    "**Download the repository**: Yes  \n",
    "\n",
    "<p style=\"text-align: center\"><img src=\"http://thislondonhouse.com/Jupyter/Images/00-Jupyter-04.png\"></p>  \n",
    "\n",
    "After cloning, you should see an AI-Notebooks folder in the file viewer.\n",
    "<p style=\"text-align: center\"><img src=\"http://thislondonhouse.com/Jupyter/Images/00-Jupyter-05.png\"></p>  \n",
    "\n",
    "Now, you will have access to the notebooks I create for this class, and a platform for creating your own notebooks to practice the techniques we learn in class."
   ]
  },
  {
   "cell_type": "markdown",
   "id": "5be7e71d-9f6f-4260-8dc7-adc499d07298",
   "metadata": {},
   "source": [
    "***\n",
    "## Python\n",
    "\n",
    "The Jupyter notebooks allow us to write python code inside of a web browser. This section will serve as a reference for writing Python code.\n",
    "\n",
    "### Comments"
   ]
  },
  {
   "cell_type": "code",
   "execution_count": null,
   "id": "1db8d773-d9bb-49e6-9568-105ab2cf7661",
   "metadata": {},
   "outputs": [],
   "source": [
    "# this is a comment.\n",
    "\n",
    "# The hashtag (i.e., #) ensures these line of code are skipped by the interpreter \n",
    "\n",
    "# Comments are used to leave notes inside of Python code\n",
    "\n",
    "# And to explain what the code is doing and why.\n",
    "\n",
    "# When you run these lines of code, the interpreter runs successfully, but does not create any output."
   ]
  },
  {
   "cell_type": "markdown",
   "id": "92176aa2-eaa1-4020-aba6-c610269fce9f",
   "metadata": {},
   "source": [
    "### Variables  \n",
    "Variables are used to store value. When a variable is created it recieves a value. When the variable is referenced later in the code, the associated value replaces the variable name in the statement."
   ]
  },
  {
   "cell_type": "code",
   "execution_count": null,
   "id": "57549b42-5451-4577-9b55-29217811aaaa",
   "metadata": {},
   "outputs": [],
   "source": [
    "myStringVar = \"A string value\"  # This creates a variable called 'myStringVar' that has a string value.\n",
    "\n",
    "myIntegerVar = 9  # This creates a variable called 'myIntegerVar' that has a numeric (in this case, whole number) value."
   ]
  },
  {
   "cell_type": "markdown",
   "id": "acdeab74-bc56-465d-bce1-1e4be50a056d",
   "metadata": {},
   "source": [
    "### Conditional Statements  \n",
    "Conditional statements define the flow of the code. Python code runs from top to bottom and conditional statements are used run some lines of code while skipping others. In Python, code is indented under conditional statements. Conditional statements ask True/False questions and ff a condition is True, all indented code under the conditional is executed."
   ]
  },
  {
   "cell_type": "code",
   "execution_count": null,
   "id": "4f861297-a463-4a48-b975-23cfa9a8cf34",
   "metadata": {},
   "outputs": [],
   "source": [
    "if myStringVar == \"A string value\":\n",
    "    print(\"The above statement is True\")\n",
    "    print(\"All indented code will run\")\n",
    "elif myStringVar == \"My string value\":\n",
    "    print(\"Multiple conditions can be handled using if, elif (optional; zero to many), and else (optional) statements.\")\n",
    "else:\n",
    "    print(\"The code under an else condition is executed if none of the preceding conditions evaluate to True\") "
   ]
  },
  {
   "cell_type": "code",
   "execution_count": null,
   "id": "ec4997f4-0fef-44ee-962e-cedfa5479276",
   "metadata": {},
   "outputs": [],
   "source": [
    "if myStringVar == \"A string value\":\n",
    "    print(\"The value of myString is 'A string value' and the condition evaluates to True\")\n",
    "    if myIntegerVar < 10:\n",
    "        print(\"This is a nested condition.\")\n",
    "        print(\"To execute this code, the outside condition and the inside condition must evaluate to True\")\n",
    "        print(\"In this case, myIntegerVar is less than 10\")\n",
    "    else:\n",
    "        print(\"myStringVar does equal 'A string value' but myIntegerVar is not less than 10\")\n",
    "else:\n",
    "    print(\"myStringVar does not equal 'A string value'\")"
   ]
  },
  {
   "cell_type": "markdown",
   "id": "1bb83483-4154-430f-bd28-f799bd17156a",
   "metadata": {},
   "source": [
    "### Loops\n",
    "Loops are condtional statements with repetition. Loops are used when you want code to execute multiple times or until something happens. While loops repeat while a condition is true. For loops repeat as long as there are more elements to process."
   ]
  },
  {
   "cell_type": "code",
   "execution_count": null,
   "id": "0f993e2c-1eee-4b51-979c-11dde4e5020a",
   "metadata": {},
   "outputs": [],
   "source": [
    "while myIntegerVar > 4:\n",
    "    print(\"myIntegerVar is still greater than 4\")\n",
    "    print(f\"myIntegerVar is {myIntegerVar}\")\n",
    "    myIntegerVar = myIntegerVar - 1\n",
    "\n",
    "print(\"When the loop is done, execution picks back up after the loop\")\n",
    "print(\"Notice, the loop above decreases the value of myIntegerVar\")\n",
    "print(f\"After the loop myIntegerVar equals {myIntegerVar} and if you run this block again, it will skip the loop entirely.\")\n",
    "print(\"To make this loop run again, you would need to reset the value of myIntegerVar to some value above 4 (or by running the block above)\")"
   ]
  },
  {
   "cell_type": "code",
   "execution_count": null,
   "id": "7a709cca-e286-4ddc-b74f-a3c08bc8c205",
   "metadata": {},
   "outputs": [],
   "source": [
    "for myLetterVar in myStringVar:\n",
    "    print(f\"Processing {myStringVar} one letter at a time\")\n",
    "    print(f\"Current Letter: {myLetterVar}\")\n",
    "\n",
    "print(\"Once all elements in the collection (in this case the collection is provided by the myStringVar variable which is a collection of characters), execution picks back up after the loop\")"
   ]
  },
  {
   "cell_type": "code",
   "execution_count": null,
   "id": "2c625cdf-780f-412a-aa9a-712e82fc796a",
   "metadata": {},
   "outputs": [],
   "source": [
    "for x in range(3):\n",
    "    print(\"The range function creates a collection of numbers starting at zero\") \n",
    "    print(x)"
   ]
  },
  {
   "cell_type": "code",
   "execution_count": null,
   "id": "08b83076-544f-498a-bf38-bebe964b45b3",
   "metadata": {},
   "outputs": [],
   "source": [
    "while True:\n",
    "    print(\"This is an infinite loop because 'True' will always be true\")\n",
    "    print(\"These loops are used when you are waiting for something to happen inside of a loop\")\n",
    "    print(f\"myIntegerVar is {myIntegerVar} so we're going to keep going\")\n",
    "    if myIntegerVar == 20:\n",
    "        print(\"If statements are placed inside infinite loops to tell the loop to stop\")\n",
    "        print(\"The break keyword forces a loop to exit\")\n",
    "        break\n",
    "    myIntegerVar = myIntegerVar + 1"
   ]
  },
  {
   "cell_type": "markdown",
   "id": "647c0d3d-87d1-4c1b-b6de-5374c07b2f88",
   "metadata": {},
   "source": [
    "### Functions\n",
    "Functions are micro applications that are used to simplify our code. Functions are similar to variables in that their name is used as a reference, but instead of referencing a value, function names reference a block of code. The **def** keyword denotes a function and variables inside the parethenses provide values to the function so that it can run. Function code is indented underneath the function definition."
   ]
  },
  {
   "cell_type": "code",
   "execution_count": null,
   "id": "a0f43219-c943-41c9-9330-0b59a12bcb87",
   "metadata": {},
   "outputs": [],
   "source": [
    "def myFunction(myFunctionVar, myOtherFunctionVar):\n",
    "    print(\"This is a user-defined function.\")\n",
    "    print(\"This code only runs when the function name is referenced somewhere else in the code.\")\n",
    "    print(f\"{myFunctionVar} and {myOtherFunctionVar} were passed into the function.\")\n",
    "    print(\"This function will concatentate those values are return the result to the statement where the function was called\")\n",
    "    return str(myFunctionVar) + str(myOtherFunctionVar)"
   ]
  },
  {
   "cell_type": "code",
   "execution_count": null,
   "id": "ae9b6988-5baf-486e-919c-7bd19180b59d",
   "metadata": {},
   "outputs": [],
   "source": [
    "functionResult = myFunction(myIntegerVar, myStringVar)\n",
    "print(\"Notice: All of the code inside the function runs, but the result of the function is stored in the functionResult variable\")\n",
    "print(functionResult)"
   ]
  },
  {
   "cell_type": "markdown",
   "id": "0874b9ec-9291-43a0-8b53-3ab6f2395d19",
   "metadata": {},
   "source": [
    "We will write some of our own functions, but most of the functions we use will be built-in functions. You will be able to identify functions because they will be words followed by paratheses. So, print() is a function (that prints output for the user to see), int() is a function (that converts values into integer values), and len() is a function (that reports the number of elements in a collection of values)."
   ]
  },
  {
   "cell_type": "markdown",
   "id": "8727cd89-581c-420a-9b85-817f22ed0bbe",
   "metadata": {},
   "source": [
    "### Data Structures\n",
    "Variables store single values, but data structures are used to store many values. We will be using lists and dictionaries to store values. A list is an ordered collection of values which means that each value occupies a single position in the larger collection. Dictionaries are unordered collections which store values in key, value pairs. "
   ]
  },
  {
   "cell_type": "code",
   "execution_count": null,
   "id": "26bbf1a4-c276-49b8-a0bd-937042a8bb1a",
   "metadata": {},
   "outputs": [],
   "source": [
    "myListVar = [1,\n",
    "             3,\n",
    "             5,\n",
    "             7,\n",
    "             \"nine\",\n",
    "             \"eleven\"]\n",
    "\n",
    "print(\"When creating a list of elements, values are separated by commas. Elements may be the same type or some mix of different types.\")\n",
    "print(myListVar)\n",
    "print(f\"The len function can be used to measure how many elements are in the list: {len(myListVar)}\")\n",
    "print(f\"Individual elements are retrieved using positional (numeric) values: {myListVar[4]}\")\n",
    "\n",
    "myListVar.append(13) # the .append() method can be used to add elements to a list\n",
    "print(myListVar)"
   ]
  },
  {
   "cell_type": "code",
   "execution_count": null,
   "id": "0cb3b4a3-c303-46f6-b668-006a1b2b22ea",
   "metadata": {},
   "outputs": [],
   "source": [
    "myDictionaryVar = {'First Name': 'Jake',\n",
    "                   'Last Name': 'London',\n",
    "                   'Title': 'Associate Professor',\n",
    "                   'Birth Year': 1979}\n",
    "\n",
    "print(\"When creating a dictionary of elements, keys and values must be defined and multiple values are are separated by commas. Elements may be the same type or some mix of different types.\")\n",
    "print(myDictionaryVar)\n",
    "print(f\"The len function can be used to measure how many elements are in the list: {len(myDictionaryVar)}\")\n",
    "print(f\"Individual elements are retrieved using the associated key: {myDictionaryVar['Title']}\")\n",
    "\n",
    "myDictionaryVar['Marital Status'] = 'Married' # new values can be added by creating a new key within the dicitonary and assigning a value.\n",
    "print(myDictionaryVar)"
   ]
  },
  {
   "cell_type": "markdown",
   "id": "13805a67-e980-4021-bfd6-5615051bb1c7",
   "metadata": {},
   "source": [
    "***\n",
    "## Co-Intelligence\n",
    "<p style=\"text-align: center\"><img src=\"http://thislondonhouse.com/Jupyter/Images/co-intelligence.jpg\" style=\"height: 400px;\"></p>  \n",
    "\n",
    "Living with an alien intelligence that is going to change *everything*.  \n",
    "\n",
    "### Three Sleepless Nights\n",
    "Artificial Intelligence (AI) is like no application you have ever encountered. In many ways, using a large language model (LLM) AI is more like interacting with a human than a computer.  \n",
    "\n",
    "*In what ways have you noticed that LLMs are more human-like than other computing applications?*\n",
    "\n",
    "AIs are likely to have some effect on all aspects of life. Its ability to make inferences, understand nuance, and respond accordingly paired with its encycolpedic knowledge make it a a potential disruptor to all activities that we would have previously considered to be solely in the domain of human activity.\n",
    "\n",
    "*What aspects of life, work, and society do you envision AIs having the most/least impact?*\n",
    "\n",
    "The implications of AI are profound. It seems unlikely that someone would be able to spend any amount of time with a LLM like ChatGPT and not experience some sleepless nights. Though sleeplessness is often associated with worry or anxiety, it need not be caused by dread. Instead, you may find yourself unable to sleep because your mind is overwhelmed with the possibilities.\n",
    "\n",
    "*What about AI keeps you up at night?*\n"
   ]
  },
  {
   "cell_type": "markdown",
   "id": "73346f02-4ae6-4b34-b43e-703709d5b046",
   "metadata": {},
   "source": [
    "### Creating Alien Minds\n",
    "#### History of AI\n",
    "1770's - A chess-playing robot known as the [Mechanical Turk](https://en.wikipedia.org/wiki/Mechanical_Turk) was developed in 1770.  \n",
    "1950's - A mechanical mouse known as [Theseus](https://en.wikipedia.org/wiki/Claude_Shannon#Shannon.27s_mouse) was able to navigate a complex maze  \n",
    "1950's - Alan Turing proposed a thought experiment known as the [Imitation Game](https://en.wikipedia.org/wiki/Turing_test) which prosed that a machine would be capable of exhibiting intelligent behavior if a human using it is incapable of determinning whether the outputs are produced by another human or by a machine.  \n",
    "1950's - 'Artificial Integlligence' coined by John McCarthy  \n",
    "1960's - Deep learning and artificial neural networks  \n",
    "2010's - Machine Learning (Legacy Artificial Intelligence) - Interest in machine learning emerged as data and processing power became more accessible. These techniques were focused on predicting outcomes with increasing precision.   \n",
    "2020's - Generative AI and Large Language Models (LLM)\n",
    "#### Emergence of Generative AI  \n",
    "Transformers changed everything. The [Transformer architecture](https://en.wikipedia.org/wiki/Transformer_(deep_learning_architecture)) changed the way that generative AIs build context-aware output by shifting the focus from statistical likelihood to relevance.   \n",
    "LLMs use the Transformer architecture to predict the most apporpriate next token (i.e., word or part of a word).  \n",
    "The weights which determine how tokens are related to one another are established by ingesting many billions of documents   \n",
    "Fine-tuning, whether by humans or by other AIs, improve the outputs of AIs and establish guardrails for AI behavior.  \n",
    "#### First Encounters of an Alien Mind\n",
    "It's weird  \n",
    "It's smart  \n",
    "It's creative  \n",
    "It's helpful  \n",
    "It's flexible  \n",
    "It's skilled  \n",
    "It's naive  \n",
    "It's kinda dumb  "
   ]
  },
  {
   "cell_type": "markdown",
   "id": "d291b61e-67ca-4b0d-916c-dd6aee1683bb",
   "metadata": {},
   "source": [
    "### Aligning the Alien\n",
    "#### Boundless Upside or the end of Human Affairs\n",
    "Generative AIs seem to have boundless capabilities and they are improving at a break-neck pace. Many see these capabilities with absolute optimism while others observe them in absolute terror.  \n",
    "In theory, a generative AI could solve society's most complex problems. As it pursues perfection, it would learn from its mistakes, tweak its approach, and develop new models to achieving its goal. It doesn't matter that it may not take an effecient or logical path because LLMs do not face the same temporal limitations that humans face.  \n",
    "\n",
    "**BUT**\n",
    "\n",
    "AIs have no sense of right or wrong. They have no inherent capability for weighing ethical choices. Given an objective function, the objective function becomes its primary concern. So, as an AI doggedly pursues a solution to society's problems, it may conclude that humans are the primary impediment.\n",
    "\n",
    "*Which is it?*\n",
    "\n",
    "#### Amoral Machines and Immoral Humans\n",
    "1. Ethical Foundations: Many AI companies do not disclose the training data that were used to develop their LLMs. Experts contend that most of these models were trained on copyrighted information without consent.\n",
    "2. Human Cogs: When AIs make mistakes or need finetuning, those tasks are often done by low wage workers in developing countries. \n",
    "3. Social Engineering: Despite guardrails that AI companies impose, the AI's objective to be helpful often opens it up to manipulation, allowing users a built-in mechanism for circumventing safeguards.  \n",
    "4. Automated Deception: Bad actors now have ready access to incredibly sophisticated deception machines. Already, hackers are using these tools to develop more successful phishing attacks.  \n",
    "5. Augmented Terrorism: AIs are often heralded as being tools that increase the effectiveness of employees, but this is also true for terror groups who can use AI to develop more creative terror plots."
   ]
  },
  {
   "cell_type": "markdown",
   "id": "a21706a9-cb6a-403f-9dac-a6002c650ec0",
   "metadata": {},
   "source": [
    "### Four Rules for Co-Intelligence\n",
    "\n",
    "1. **Always invite AI to the table**: The Jagged Frontier represents the boundary between what the AI can do and what it can do. That boundary will be hard to see and it is only through inviting AIs into your tasks that you see it more clearly.  \n",
    "\n",
    "*Where is the Jagged Frontier? What can the AI do? What can't it do?*  \n",
    "\n",
    "2. **Be the human in the loop**: Despite their seemingly endly capabilities, LLMs don't actually know anything and they cannot differentiate between right and wrong or good and bad. To achieve consistently excellent results, the AI needs oversight.  \n",
    "\n",
    "*What are some times when the AI halluciated or made something up?*  \n",
    "\n",
    "3. **Treat AI like a person (but tell it what kind of person it is)**: AIs are fungible and they can simulate any role you may throw at them. Generic prompts lead to generic results, but obscure prompts open a new universe of possible connections.\n",
    "\n",
    "*How have you molded the AI's identity and how did it affect its resposnes?*  \n",
    "\n",
    "\n",
    "4. **Assume this is the worst AI you will ever use**: We will be unable to plan for the future (our future, our profession's future, society's future, etc.) without grasping that AIs will only improve. \n",
    "\n",
    "*What advancements have you seen within the AI industry? What's next?*"
   ]
  }
 ],
 "metadata": {
  "kernelspec": {
   "display_name": "Python 3 (ipykernel)",
   "language": "python",
   "name": "python3"
  },
  "language_info": {
   "codemirror_mode": {
    "name": "ipython",
    "version": 3
   },
   "file_extension": ".py",
   "mimetype": "text/x-python",
   "name": "python",
   "nbconvert_exporter": "python",
   "pygments_lexer": "ipython3",
   "version": "3.10.12"
  }
 },
 "nbformat": 4,
 "nbformat_minor": 5
}
